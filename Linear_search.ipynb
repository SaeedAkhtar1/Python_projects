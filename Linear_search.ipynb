{
 "cells": [
  {
   "cell_type": "code",
   "execution_count": 1,
   "id": "1649f448",
   "metadata": {},
   "outputs": [
    {
     "name": "stdout",
     "output_type": "stream",
     "text": [
      "Enter the list\n",
      "18665839\n"
     ]
    }
   ],
   "source": [
    "# Enter the list\n",
    "print(\"Enter the list\")\n",
    "arr=list(input())"
   ]
  },
  {
   "cell_type": "code",
   "execution_count": 13,
   "id": "6c36a556",
   "metadata": {},
   "outputs": [
    {
     "name": "stdout",
     "output_type": "stream",
     "text": [
      "Enter the number that you want to search in the list\n",
      "6\n"
     ]
    }
   ],
   "source": [
    "print(\"Enter the number that you want to search in the list\")\n",
    "item=int(input())"
   ]
  },
  {
   "cell_type": "code",
   "execution_count": 14,
   "id": "4da1b6d9",
   "metadata": {},
   "outputs": [
    {
     "data": {
      "text/plain": [
       "[1, 8, 6, 6, 5, 8, 3, 9]"
      ]
     },
     "execution_count": 14,
     "metadata": {},
     "output_type": "execute_result"
    }
   ],
   "source": [
    "# converting string to list of integers\n",
    "arr=[int(x) for x in arr]\n",
    "arr"
   ]
  },
  {
   "cell_type": "code",
   "execution_count": 15,
   "id": "cc9f8329",
   "metadata": {},
   "outputs": [],
   "source": [
    "# linear search function\n",
    "def linear_search(arr, item):\n",
    "    i=0\n",
    "    for x in range(0,len(arr)):\n",
    "        if arr[i]==item:\n",
    "            print(f\"{item} found at index {i}.\")\n",
    "        i=i+1"
   ]
  },
  {
   "cell_type": "code",
   "execution_count": 16,
   "id": "6dbe389d",
   "metadata": {},
   "outputs": [
    {
     "name": "stdout",
     "output_type": "stream",
     "text": [
      "6 found at index 2.\n",
      "6 found at index 3.\n"
     ]
    }
   ],
   "source": [
    "# lets search the  item \n",
    "\n",
    "linear_search(arr, item)\n"
   ]
  },
  {
   "cell_type": "code",
   "execution_count": null,
   "id": "6e7de1a8",
   "metadata": {},
   "outputs": [],
   "source": []
  },
  {
   "cell_type": "code",
   "execution_count": null,
   "id": "c19364c6",
   "metadata": {},
   "outputs": [],
   "source": []
  },
  {
   "cell_type": "code",
   "execution_count": null,
   "id": "3d247f71",
   "metadata": {},
   "outputs": [],
   "source": []
  }
 ],
 "metadata": {
  "kernelspec": {
   "display_name": "Python 3 (ipykernel)",
   "language": "python",
   "name": "python3"
  },
  "language_info": {
   "codemirror_mode": {
    "name": "ipython",
    "version": 3
   },
   "file_extension": ".py",
   "mimetype": "text/x-python",
   "name": "python",
   "nbconvert_exporter": "python",
   "pygments_lexer": "ipython3",
   "version": "3.9.13"
  }
 },
 "nbformat": 4,
 "nbformat_minor": 5
}
